{
 "cells": [
  {
   "cell_type": "code",
   "execution_count": 37,
   "id": "05ae7722",
   "metadata": {},
   "outputs": [],
   "source": [
    "import pandas as pd\n",
    "from itertools import chain\n",
    "from collections import Counter\n",
    "import os\n",
    "from utils import load_json_config"
   ]
  },
  {
   "cell_type": "code",
   "execution_count": 38,
   "id": "c76b799d-4166-46a9-bc52-ffdea1654e06",
   "metadata": {},
   "outputs": [],
   "source": [
    "config = load_json_config(\"config.json\")"
   ]
  },
  {
   "cell_type": "markdown",
   "id": "704ef28d-9bfd-4412-87e5-f90b93439863",
   "metadata": {},
   "source": [
    "## Downloading a small or a large dataset"
   ]
  },
  {
   "cell_type": "markdown",
   "id": "47e3c815-bd97-4f25-ae96-fc330de6f3ab",
   "metadata": {},
   "source": [
    "### SMALL (~2k records)"
   ]
  },
  {
   "cell_type": "code",
   "execution_count": null,
   "id": "7ca59360-ab88-41e1-91ae-0738f3b0f5a2",
   "metadata": {},
   "outputs": [],
   "source": [
    "!gdown {config[\"small_dataset_csv\"]}"
   ]
  },
  {
   "cell_type": "markdown",
   "id": "c1381a40-3420-4d49-a0db-ce44689a7ab8",
   "metadata": {},
   "source": [
    "### LARGE (~26k records)"
   ]
  },
  {
   "cell_type": "code",
   "execution_count": 6,
   "id": "fdaa860e",
   "metadata": {},
   "outputs": [
    {
     "name": "stdout",
     "output_type": "stream",
     "text": [
      "Downloading...\n",
      "From: https://drive.google.com/uc?id=1Up0kFTtyaz-CoiHIKoYAmfdLK7voK6xl\n",
      "To: /home/yehor/Desktop/Genre_based_on_album_cover/large_dataset.csv\n",
      "100%|██████████████████████████████████████| 3.10M/3.10M [00:00<00:00, 10.9MB/s]\n"
     ]
    }
   ],
   "source": [
    "!gdown {config[\"large_dataset_csv\"]}"
   ]
  },
  {
   "cell_type": "markdown",
   "id": "dfb22187-a69a-4417-92f2-d23fb4568b57",
   "metadata": {},
   "source": [
    "## Downloading a small or large set of imgs associated with the dataset"
   ]
  },
  {
   "cell_type": "markdown",
   "id": "4a6a91c1-8bfb-4b84-9f02-f217b9065328",
   "metadata": {},
   "source": [
    "### SMALL (~180mb)"
   ]
  },
  {
   "cell_type": "code",
   "execution_count": null,
   "id": "e74d885b-69f7-4d66-a3e3-cf7e955d6691",
   "metadata": {},
   "outputs": [],
   "source": [
    "!gdown {config[\"small_dataset_imgs\"]}"
   ]
  },
  {
   "cell_type": "markdown",
   "id": "95455b08-19ac-4249-ba7a-8aec6b8003c3",
   "metadata": {},
   "source": [
    "### LARGE (~1.5gb)"
   ]
  },
  {
   "cell_type": "code",
   "execution_count": null,
   "id": "b1409879-81b3-4bd4-bf4a-9ba662e8d1f8",
   "metadata": {},
   "outputs": [],
   "source": [
    "!gdown {config[\"large_dataset_imgs\"]}"
   ]
  },
  {
   "cell_type": "markdown",
   "id": "1b65a61a-e275-4843-95f0-2c54df90ea5a",
   "metadata": {},
   "source": [
    "NOTE: YOU HAVE TO ALTER THE PATH BELOW BASED ON WHEREVER YOU DOWNLOADED THE DATA"
   ]
  },
  {
   "cell_type": "code",
   "execution_count": null,
   "id": "67101de2-d0c7-4442-94ba-ea2a315f5dc0",
   "metadata": {},
   "outputs": [],
   "source": [
    "!unzip -o /home/yehor/Desktop/Genre_based_on_album_cover/large_dataset_imgs.zip"
   ]
  },
  {
   "cell_type": "markdown",
   "id": "20af2868-6e52-4269-8421-27c76715b8d9",
   "metadata": {},
   "source": [
    "NOTE: YOU HAVE TO ALTER THE PATH BELOW BASED ON WHEREVER YOU DOWNLOADED THE DATA"
   ]
  },
  {
   "cell_type": "code",
   "execution_count": 98,
   "id": "50a962ea-6be5-40d0-90a9-cbeb54a8bbec",
   "metadata": {},
   "outputs": [],
   "source": [
    "images_location = \"/home/yehor/Desktop/Genre_based_on_album_cover/large_cleaned_dataset_imgs\""
   ]
  },
  {
   "cell_type": "markdown",
   "id": "17c6871d-dcf3-44e9-9093-53c53995175c",
   "metadata": {},
   "source": [
    "## Organizing the data"
   ]
  },
  {
   "cell_type": "code",
   "execution_count": 99,
   "id": "a9050de7",
   "metadata": {},
   "outputs": [
    {
     "data": {
      "text/html": [
       "<div>\n",
       "<style scoped>\n",
       "    .dataframe tbody tr th:only-of-type {\n",
       "        vertical-align: middle;\n",
       "    }\n",
       "\n",
       "    .dataframe tbody tr th {\n",
       "        vertical-align: top;\n",
       "    }\n",
       "\n",
       "    .dataframe thead th {\n",
       "        text-align: right;\n",
       "    }\n",
       "</style>\n",
       "<table border=\"1\" class=\"dataframe\">\n",
       "  <thead>\n",
       "    <tr style=\"text-align: right;\">\n",
       "      <th></th>\n",
       "      <th>Unnamed: 0</th>\n",
       "      <th>album_index</th>\n",
       "      <th>album_id</th>\n",
       "      <th>genres</th>\n",
       "    </tr>\n",
       "  </thead>\n",
       "  <tbody>\n",
       "    <tr>\n",
       "      <th>0</th>\n",
       "      <td>0</td>\n",
       "      <td>0</td>\n",
       "      <td>5n1GSzC1Reao29ScnpLYqp</td>\n",
       "      <td>[['florida rap', 'hip hop', 'miami hip hop', '...</td>\n",
       "    </tr>\n",
       "    <tr>\n",
       "      <th>1</th>\n",
       "      <td>1</td>\n",
       "      <td>1</td>\n",
       "      <td>6UYZEYjpN1DYRW0kqFy9ZE</td>\n",
       "      <td>[['hip hop', 'philly rap', 'pop', 'pop rap', '...</td>\n",
       "    </tr>\n",
       "    <tr>\n",
       "      <th>2</th>\n",
       "      <td>2</td>\n",
       "      <td>2</td>\n",
       "      <td>7uVimUILdzSZG4KKKWToq0</td>\n",
       "      <td>[['adult standards', 'canadian pop', 'lounge',...</td>\n",
       "    </tr>\n",
       "    <tr>\n",
       "      <th>3</th>\n",
       "      <td>3</td>\n",
       "      <td>3</td>\n",
       "      <td>35s58BRTGAEWztPo9WqCIs</td>\n",
       "      <td>[[]]</td>\n",
       "    </tr>\n",
       "    <tr>\n",
       "      <th>4</th>\n",
       "      <td>4</td>\n",
       "      <td>4</td>\n",
       "      <td>41GuZcammIkupMPKH2OJ6I</td>\n",
       "      <td>[['pop', 'pop rap', 'rap']]</td>\n",
       "    </tr>\n",
       "    <tr>\n",
       "      <th>...</th>\n",
       "      <td>...</td>\n",
       "      <td>...</td>\n",
       "      <td>...</td>\n",
       "      <td>...</td>\n",
       "    </tr>\n",
       "    <tr>\n",
       "      <th>26172</th>\n",
       "      <td>26172</td>\n",
       "      <td>26172</td>\n",
       "      <td>5lXF6AFeXG8UsIUfBJNsNH</td>\n",
       "      <td>[['adult standards', 'easy listening', 'lounge...</td>\n",
       "    </tr>\n",
       "    <tr>\n",
       "      <th>26173</th>\n",
       "      <td>26173</td>\n",
       "      <td>26173</td>\n",
       "      <td>4ceeeNqKJ9OtF33DaHQuum</td>\n",
       "      <td>[['adult standards', 'bebop', 'bossa nova', 'c...</td>\n",
       "    </tr>\n",
       "    <tr>\n",
       "      <th>26174</th>\n",
       "      <td>26174</td>\n",
       "      <td>26174</td>\n",
       "      <td>1G8AfOjrE0FO9w1gfemIy1</td>\n",
       "      <td>[['baroque pop', 'brill building pop', 'folk r...</td>\n",
       "    </tr>\n",
       "    <tr>\n",
       "      <th>26175</th>\n",
       "      <td>26175</td>\n",
       "      <td>26175</td>\n",
       "      <td>62usLEsQho4s5TCfa6Ks4s</td>\n",
       "      <td>[['adult standards', 'bebop', 'big band', 'coo...</td>\n",
       "    </tr>\n",
       "    <tr>\n",
       "      <th>26176</th>\n",
       "      <td>26176</td>\n",
       "      <td>26176</td>\n",
       "      <td>0Gt9RgFYh2jMvv5ix5lCA1</td>\n",
       "      <td>[['beach music', 'brill building pop', 'chicag...</td>\n",
       "    </tr>\n",
       "  </tbody>\n",
       "</table>\n",
       "<p>26177 rows × 4 columns</p>\n",
       "</div>"
      ],
      "text/plain": [
       "       Unnamed: 0  album_index                album_id  \\\n",
       "0               0            0  5n1GSzC1Reao29ScnpLYqp   \n",
       "1               1            1  6UYZEYjpN1DYRW0kqFy9ZE   \n",
       "2               2            2  7uVimUILdzSZG4KKKWToq0   \n",
       "3               3            3  35s58BRTGAEWztPo9WqCIs   \n",
       "4               4            4  41GuZcammIkupMPKH2OJ6I   \n",
       "...           ...          ...                     ...   \n",
       "26172       26172        26172  5lXF6AFeXG8UsIUfBJNsNH   \n",
       "26173       26173        26173  4ceeeNqKJ9OtF33DaHQuum   \n",
       "26174       26174        26174  1G8AfOjrE0FO9w1gfemIy1   \n",
       "26175       26175        26175  62usLEsQho4s5TCfa6Ks4s   \n",
       "26176       26176        26176  0Gt9RgFYh2jMvv5ix5lCA1   \n",
       "\n",
       "                                                  genres  \n",
       "0      [['florida rap', 'hip hop', 'miami hip hop', '...  \n",
       "1      [['hip hop', 'philly rap', 'pop', 'pop rap', '...  \n",
       "2      [['adult standards', 'canadian pop', 'lounge',...  \n",
       "3                                                   [[]]  \n",
       "4                            [['pop', 'pop rap', 'rap']]  \n",
       "...                                                  ...  \n",
       "26172  [['adult standards', 'easy listening', 'lounge...  \n",
       "26173  [['adult standards', 'bebop', 'bossa nova', 'c...  \n",
       "26174  [['baroque pop', 'brill building pop', 'folk r...  \n",
       "26175  [['adult standards', 'bebop', 'big band', 'coo...  \n",
       "26176  [['beach music', 'brill building pop', 'chicag...  \n",
       "\n",
       "[26177 rows x 4 columns]"
      ]
     },
     "execution_count": 99,
     "metadata": {},
     "output_type": "execute_result"
    }
   ],
   "source": [
    "df = pd.read_csv(\"/home/yehor/Desktop/Genre_based_on_album_cover/large_dataset.csv\")\n",
    "df"
   ]
  },
  {
   "cell_type": "markdown",
   "id": "c15b7f51-b261-4367-bdc3-66c46b50231d",
   "metadata": {},
   "source": [
    "Deleting the images whose records are not present in the .csv file (if any)"
   ]
  },
  {
   "cell_type": "code",
   "execution_count": 100,
   "id": "8bd68d2f-d753-4d56-99b1-4f433a02f0d9",
   "metadata": {},
   "outputs": [],
   "source": [
    "df = df[df['album_index'].apply(lambda x: os.path.exists(f\"{images_location}/{x}.jpg\"))]"
   ]
  },
  {
   "cell_type": "markdown",
   "id": "c87671c5-d8a8-47ed-adf2-f44868362a6d",
   "metadata": {},
   "source": [
    "Now proceeding to merging the branches of genres into the parent genres"
   ]
  },
  {
   "cell_type": "code",
   "execution_count": 101,
   "id": "16e4bdc5",
   "metadata": {},
   "outputs": [],
   "source": [
    "maps = load_json_config(\"country_classical.json\")"
   ]
  },
  {
   "cell_type": "code",
   "execution_count": 102,
   "id": "9990318b-ec5e-457c-aef4-c796599bba5d",
   "metadata": {},
   "outputs": [],
   "source": [
    "indexed_categories = maps[\"indexed_categories\"]\n",
    "keyword_to_category = maps[\"keyword_to_category\"]"
   ]
  },
  {
   "cell_type": "code",
   "execution_count": 103,
   "id": "415a3963",
   "metadata": {},
   "outputs": [],
   "source": [
    "def extract_genres(genres):\n",
    "    return list(chain.from_iterable(eval(genres)))"
   ]
  },
  {
   "cell_type": "code",
   "execution_count": 104,
   "id": "091ad855",
   "metadata": {},
   "outputs": [],
   "source": [
    "def parent_genre(sub_genre):\n",
    "    if not sub_genre or not isinstance(sub_genre, str):\n",
    "        return \"unknown\"\n",
    "    \n",
    "    sub_genre = sub_genre.lower()\n",
    "    for keyword, category in keyword_to_category.items():\n",
    "        if keyword in sub_genre:\n",
    "            return category\n",
    "    \n",
    "    return \"unknown\""
   ]
  },
  {
   "cell_type": "code",
   "execution_count": 105,
   "id": "6543ab24",
   "metadata": {},
   "outputs": [],
   "source": [
    "def assign_genre(sub_genres):\n",
    "    genre_counts = Counter([parent_genre(sub_genre) for sub_genre in sub_genres])\n",
    "    if len(genre_counts) == 0:\n",
    "        return \"unknown\"\n",
    "    return max(genre_counts.items(), key=lambda item: item[1])[0]  # return the genre with max count"
   ]
  },
  {
   "cell_type": "code",
   "execution_count": 106,
   "id": "3a455b08",
   "metadata": {},
   "outputs": [
    {
     "data": {
      "text/html": [
       "<div>\n",
       "<style scoped>\n",
       "    .dataframe tbody tr th:only-of-type {\n",
       "        vertical-align: middle;\n",
       "    }\n",
       "\n",
       "    .dataframe tbody tr th {\n",
       "        vertical-align: top;\n",
       "    }\n",
       "\n",
       "    .dataframe thead th {\n",
       "        text-align: right;\n",
       "    }\n",
       "</style>\n",
       "<table border=\"1\" class=\"dataframe\">\n",
       "  <thead>\n",
       "    <tr style=\"text-align: right;\">\n",
       "      <th></th>\n",
       "      <th>album_id</th>\n",
       "      <th>genre</th>\n",
       "    </tr>\n",
       "  </thead>\n",
       "  <tbody>\n",
       "    <tr>\n",
       "      <th>0</th>\n",
       "      <td>13</td>\n",
       "      <td>0</td>\n",
       "    </tr>\n",
       "    <tr>\n",
       "      <th>1</th>\n",
       "      <td>25</td>\n",
       "      <td>1</td>\n",
       "    </tr>\n",
       "    <tr>\n",
       "      <th>2</th>\n",
       "      <td>33</td>\n",
       "      <td>1</td>\n",
       "    </tr>\n",
       "    <tr>\n",
       "      <th>3</th>\n",
       "      <td>44</td>\n",
       "      <td>0</td>\n",
       "    </tr>\n",
       "    <tr>\n",
       "      <th>4</th>\n",
       "      <td>45</td>\n",
       "      <td>1</td>\n",
       "    </tr>\n",
       "    <tr>\n",
       "      <th>...</th>\n",
       "      <td>...</td>\n",
       "      <td>...</td>\n",
       "    </tr>\n",
       "    <tr>\n",
       "      <th>3094</th>\n",
       "      <td>26148</td>\n",
       "      <td>1</td>\n",
       "    </tr>\n",
       "    <tr>\n",
       "      <th>3095</th>\n",
       "      <td>26149</td>\n",
       "      <td>1</td>\n",
       "    </tr>\n",
       "    <tr>\n",
       "      <th>3096</th>\n",
       "      <td>26172</td>\n",
       "      <td>0</td>\n",
       "    </tr>\n",
       "    <tr>\n",
       "      <th>3097</th>\n",
       "      <td>26173</td>\n",
       "      <td>0</td>\n",
       "    </tr>\n",
       "    <tr>\n",
       "      <th>3098</th>\n",
       "      <td>26175</td>\n",
       "      <td>0</td>\n",
       "    </tr>\n",
       "  </tbody>\n",
       "</table>\n",
       "<p>3099 rows × 2 columns</p>\n",
       "</div>"
      ],
      "text/plain": [
       "      album_id  genre\n",
       "0           13      0\n",
       "1           25      1\n",
       "2           33      1\n",
       "3           44      0\n",
       "4           45      1\n",
       "...        ...    ...\n",
       "3094     26148      1\n",
       "3095     26149      1\n",
       "3096     26172      0\n",
       "3097     26173      0\n",
       "3098     26175      0\n",
       "\n",
       "[3099 rows x 2 columns]"
      ]
     },
     "execution_count": 106,
     "metadata": {},
     "output_type": "execute_result"
    }
   ],
   "source": [
    "cleaned_df = pd.DataFrame({\"album_id\": pd.Series(dtype=\"int\"), \"genre\": pd.Series(dtype=\"int\")})\n",
    "for row in df.itertuples(index=True, name=\"Row\"):\n",
    "    genre = assign_genre(extract_genres(row.genres))\n",
    "    if genre == \"unknown\":\n",
    "        continue\n",
    "    new_row = pd.DataFrame([{\"album_id\": int(row.album_index), \"genre\": indexed_categories[genre]}])\n",
    "    cleaned_df = pd.concat([cleaned_df, new_row], ignore_index=True)\n",
    "\n",
    "cleaned_df"
   ]
  },
  {
   "cell_type": "code",
   "execution_count": 107,
   "id": "b00a4972-cd95-424f-aa70-615c502d8e3d",
   "metadata": {},
   "outputs": [
    {
     "data": {
      "text/plain": [
       "genre\n",
       "1    1689\n",
       "0    1410\n",
       "Name: count, dtype: int64"
      ]
     },
     "execution_count": 107,
     "metadata": {},
     "output_type": "execute_result"
    }
   ],
   "source": [
    "cleaned_df[\"genre\"].value_counts()"
   ]
  },
  {
   "cell_type": "code",
   "execution_count": 108,
   "id": "b3a4dc01",
   "metadata": {},
   "outputs": [],
   "source": [
    "cleaned_df.to_csv(config[\"organized_dataset_name\"], index=False)"
   ]
  }
 ],
 "metadata": {
  "kernelspec": {
   "display_name": "Python (venv)",
   "language": "python",
   "name": "venv"
  },
  "language_info": {
   "codemirror_mode": {
    "name": "ipython",
    "version": 3
   },
   "file_extension": ".py",
   "mimetype": "text/x-python",
   "name": "python",
   "nbconvert_exporter": "python",
   "pygments_lexer": "ipython3",
   "version": "3.10.15"
  }
 },
 "nbformat": 4,
 "nbformat_minor": 5
}
