{
 "cells": [
  {
   "cell_type": "code",
   "execution_count": 33,
   "id": "05ae7722",
   "metadata": {},
   "outputs": [],
   "source": [
    "import pandas as pd\n",
    "from itertools import chain\n",
    "from collections import Counter\n",
    "from utils import load_json_config"
   ]
  },
  {
   "cell_type": "code",
   "execution_count": 34,
   "id": "c76b799d-4166-46a9-bc52-ffdea1654e06",
   "metadata": {},
   "outputs": [],
   "source": [
    "config = load_json_config(\"config.json\")"
   ]
  },
  {
   "cell_type": "code",
   "execution_count": 35,
   "id": "fdaa860e",
   "metadata": {},
   "outputs": [
    {
     "name": "stdout",
     "output_type": "stream",
     "text": [
      "Downloading...\n",
      "From: https://drive.google.com/uc?id=15mXCMH9lpOGCk-z9MTDWx5Uuj6kkL5JL\n",
      "To: /home/yehor/Desktop/Genre_based_on_album_cover/raw_data.csv\n",
      "100%|████████████████████████████████████████| 206k/206k [00:00<00:00, 4.65MB/s]\n"
     ]
    }
   ],
   "source": [
    "!gdown {config[\"raw_dataset\"]}"
   ]
  },
  {
   "cell_type": "markdown",
   "id": "3835af8a-a513-4eac-92f4-4db7713b2880",
   "metadata": {},
   "source": [
    "NOTE: YOU HAVE TO ALTER THE PATH BELOW BASED ON WHEREVER YOU DOWNLOADED THE DATASET"
   ]
  },
  {
   "cell_type": "code",
   "execution_count": 36,
   "id": "a9050de7",
   "metadata": {},
   "outputs": [
    {
     "data": {
      "text/html": [
       "<div>\n",
       "<style scoped>\n",
       "    .dataframe tbody tr th:only-of-type {\n",
       "        vertical-align: middle;\n",
       "    }\n",
       "\n",
       "    .dataframe tbody tr th {\n",
       "        vertical-align: top;\n",
       "    }\n",
       "\n",
       "    .dataframe thead th {\n",
       "        text-align: right;\n",
       "    }\n",
       "</style>\n",
       "<table border=\"1\" class=\"dataframe\">\n",
       "  <thead>\n",
       "    <tr style=\"text-align: right;\">\n",
       "      <th></th>\n",
       "      <th>Unnamed: 0</th>\n",
       "      <th>album_index</th>\n",
       "      <th>album_id</th>\n",
       "      <th>genres</th>\n",
       "    </tr>\n",
       "  </thead>\n",
       "  <tbody>\n",
       "    <tr>\n",
       "      <th>0</th>\n",
       "      <td>0</td>\n",
       "      <td>0</td>\n",
       "      <td>5n1GSzC1Reao29ScnpLYqp</td>\n",
       "      <td>[['florida drill', 'florida rap', 'melodic rap...</td>\n",
       "    </tr>\n",
       "    <tr>\n",
       "      <th>1</th>\n",
       "      <td>1</td>\n",
       "      <td>1</td>\n",
       "      <td>6UYZEYjpN1DYRW0kqFy9ZE</td>\n",
       "      <td>[['hip hop', 'philly rap', 'pop rap', 'rap', '...</td>\n",
       "    </tr>\n",
       "    <tr>\n",
       "      <th>2</th>\n",
       "      <td>2</td>\n",
       "      <td>2</td>\n",
       "      <td>7uVimUILdzSZG4KKKWToq0</td>\n",
       "      <td>[['adult standards', 'canadian pop', 'jazz pop...</td>\n",
       "    </tr>\n",
       "    <tr>\n",
       "      <th>3</th>\n",
       "      <td>3</td>\n",
       "      <td>3</td>\n",
       "      <td>35s58BRTGAEWztPo9WqCIs</td>\n",
       "      <td>[[]]</td>\n",
       "    </tr>\n",
       "    <tr>\n",
       "      <th>4</th>\n",
       "      <td>4</td>\n",
       "      <td>4</td>\n",
       "      <td>41GuZcammIkupMPKH2OJ6I</td>\n",
       "      <td>[['rap', 'slap house']]</td>\n",
       "    </tr>\n",
       "    <tr>\n",
       "      <th>...</th>\n",
       "      <td>...</td>\n",
       "      <td>...</td>\n",
       "      <td>...</td>\n",
       "      <td>...</td>\n",
       "    </tr>\n",
       "    <tr>\n",
       "      <th>2158</th>\n",
       "      <td>2158</td>\n",
       "      <td>2158</td>\n",
       "      <td>2I13eciqP8kdMa4kQQwauI</td>\n",
       "      <td>[[]]</td>\n",
       "    </tr>\n",
       "    <tr>\n",
       "      <th>2159</th>\n",
       "      <td>2159</td>\n",
       "      <td>2159</td>\n",
       "      <td>49lwR8y1i51wrQRnhw5C3H</td>\n",
       "      <td>[['contemporary country', 'country', 'country ...</td>\n",
       "    </tr>\n",
       "    <tr>\n",
       "      <th>2160</th>\n",
       "      <td>2160</td>\n",
       "      <td>2160</td>\n",
       "      <td>3q2tS3Qy39pOGDu3vsHQb5</td>\n",
       "      <td>[['album rock', 'beatlesque', 'classic rock', ...</td>\n",
       "    </tr>\n",
       "    <tr>\n",
       "      <th>2161</th>\n",
       "      <td>2161</td>\n",
       "      <td>2161</td>\n",
       "      <td>5wePyi4cqqTE9moAAXXbQu</td>\n",
       "      <td>[['ccm', 'christian alternative rock', 'christ...</td>\n",
       "    </tr>\n",
       "    <tr>\n",
       "      <th>2162</th>\n",
       "      <td>2162</td>\n",
       "      <td>2162</td>\n",
       "      <td>13krlV3tt9Yv69hbR5feV0</td>\n",
       "      <td>[['dance rock', 'modern alternative rock', 'mo...</td>\n",
       "    </tr>\n",
       "  </tbody>\n",
       "</table>\n",
       "<p>2163 rows × 4 columns</p>\n",
       "</div>"
      ],
      "text/plain": [
       "      Unnamed: 0  album_index                album_id  \\\n",
       "0              0            0  5n1GSzC1Reao29ScnpLYqp   \n",
       "1              1            1  6UYZEYjpN1DYRW0kqFy9ZE   \n",
       "2              2            2  7uVimUILdzSZG4KKKWToq0   \n",
       "3              3            3  35s58BRTGAEWztPo9WqCIs   \n",
       "4              4            4  41GuZcammIkupMPKH2OJ6I   \n",
       "...          ...          ...                     ...   \n",
       "2158        2158         2158  2I13eciqP8kdMa4kQQwauI   \n",
       "2159        2159         2159  49lwR8y1i51wrQRnhw5C3H   \n",
       "2160        2160         2160  3q2tS3Qy39pOGDu3vsHQb5   \n",
       "2161        2161         2161  5wePyi4cqqTE9moAAXXbQu   \n",
       "2162        2162         2162  13krlV3tt9Yv69hbR5feV0   \n",
       "\n",
       "                                                 genres  \n",
       "0     [['florida drill', 'florida rap', 'melodic rap...  \n",
       "1     [['hip hop', 'philly rap', 'pop rap', 'rap', '...  \n",
       "2     [['adult standards', 'canadian pop', 'jazz pop...  \n",
       "3                                                  [[]]  \n",
       "4                               [['rap', 'slap house']]  \n",
       "...                                                 ...  \n",
       "2158                                               [[]]  \n",
       "2159  [['contemporary country', 'country', 'country ...  \n",
       "2160  [['album rock', 'beatlesque', 'classic rock', ...  \n",
       "2161  [['ccm', 'christian alternative rock', 'christ...  \n",
       "2162  [['dance rock', 'modern alternative rock', 'mo...  \n",
       "\n",
       "[2163 rows x 4 columns]"
      ]
     },
     "execution_count": 36,
     "metadata": {},
     "output_type": "execute_result"
    }
   ],
   "source": [
    "df = pd.read_csv(\"/home/yehor/Desktop/Genre_based_on_album_cover/raw_data.csv\")\n",
    "df"
   ]
  },
  {
   "cell_type": "code",
   "execution_count": 37,
   "id": "16e4bdc5",
   "metadata": {},
   "outputs": [],
   "source": [
    "maps = load_json_config(\"fewer_categories.json\")"
   ]
  },
  {
   "cell_type": "code",
   "execution_count": 38,
   "id": "9990318b-ec5e-457c-aef4-c796599bba5d",
   "metadata": {},
   "outputs": [],
   "source": [
    "indexed_categories = maps[\"indexed_categories\"]\n",
    "keyword_to_category = maps[\"keyword_to_category\"]"
   ]
  },
  {
   "cell_type": "code",
   "execution_count": 39,
   "id": "415a3963",
   "metadata": {},
   "outputs": [],
   "source": [
    "def extract_genres(genres):\n",
    "    return list(chain.from_iterable(eval(genres)))"
   ]
  },
  {
   "cell_type": "code",
   "execution_count": 40,
   "id": "091ad855",
   "metadata": {},
   "outputs": [],
   "source": [
    "def parent_genre(sub_genre):\n",
    "    if not sub_genre or not isinstance(sub_genre, str):\n",
    "        return \"unknown\"\n",
    "    \n",
    "    sub_genre = sub_genre.lower()\n",
    "    for keyword, category in keyword_to_category.items():\n",
    "        if keyword in sub_genre:\n",
    "            return category\n",
    "    \n",
    "    return \"unknown\""
   ]
  },
  {
   "cell_type": "code",
   "execution_count": 41,
   "id": "6543ab24",
   "metadata": {},
   "outputs": [],
   "source": [
    "def assign_genre(sub_genres):\n",
    "    genre_counts = Counter([parent_genre(sub_genre) for sub_genre in sub_genres])\n",
    "    if len(genre_counts) == 0:\n",
    "        return \"unknown\"\n",
    "    return max(genre_counts.items(), key=lambda item: item[1])[0]  # return the genre with max count"
   ]
  },
  {
   "cell_type": "code",
   "execution_count": 42,
   "id": "3a455b08",
   "metadata": {},
   "outputs": [
    {
     "data": {
      "text/html": [
       "<div>\n",
       "<style scoped>\n",
       "    .dataframe tbody tr th:only-of-type {\n",
       "        vertical-align: middle;\n",
       "    }\n",
       "\n",
       "    .dataframe tbody tr th {\n",
       "        vertical-align: top;\n",
       "    }\n",
       "\n",
       "    .dataframe thead th {\n",
       "        text-align: right;\n",
       "    }\n",
       "</style>\n",
       "<table border=\"1\" class=\"dataframe\">\n",
       "  <thead>\n",
       "    <tr style=\"text-align: right;\">\n",
       "      <th></th>\n",
       "      <th>album_id</th>\n",
       "      <th>genre</th>\n",
       "    </tr>\n",
       "  </thead>\n",
       "  <tbody>\n",
       "    <tr>\n",
       "      <th>0</th>\n",
       "      <td>0</td>\n",
       "      <td>0</td>\n",
       "    </tr>\n",
       "    <tr>\n",
       "      <th>1</th>\n",
       "      <td>1</td>\n",
       "      <td>0</td>\n",
       "    </tr>\n",
       "    <tr>\n",
       "      <th>2</th>\n",
       "      <td>4</td>\n",
       "      <td>0</td>\n",
       "    </tr>\n",
       "    <tr>\n",
       "      <th>3</th>\n",
       "      <td>6</td>\n",
       "      <td>2</td>\n",
       "    </tr>\n",
       "    <tr>\n",
       "      <th>4</th>\n",
       "      <td>7</td>\n",
       "      <td>0</td>\n",
       "    </tr>\n",
       "    <tr>\n",
       "      <th>...</th>\n",
       "      <td>...</td>\n",
       "      <td>...</td>\n",
       "    </tr>\n",
       "    <tr>\n",
       "      <th>1292</th>\n",
       "      <td>2151</td>\n",
       "      <td>2</td>\n",
       "    </tr>\n",
       "    <tr>\n",
       "      <th>1293</th>\n",
       "      <td>2155</td>\n",
       "      <td>1</td>\n",
       "    </tr>\n",
       "    <tr>\n",
       "      <th>1294</th>\n",
       "      <td>2156</td>\n",
       "      <td>2</td>\n",
       "    </tr>\n",
       "    <tr>\n",
       "      <th>1295</th>\n",
       "      <td>2160</td>\n",
       "      <td>2</td>\n",
       "    </tr>\n",
       "    <tr>\n",
       "      <th>1296</th>\n",
       "      <td>2162</td>\n",
       "      <td>2</td>\n",
       "    </tr>\n",
       "  </tbody>\n",
       "</table>\n",
       "<p>1297 rows × 2 columns</p>\n",
       "</div>"
      ],
      "text/plain": [
       "      album_id  genre\n",
       "0            0      0\n",
       "1            1      0\n",
       "2            4      0\n",
       "3            6      2\n",
       "4            7      0\n",
       "...        ...    ...\n",
       "1292      2151      2\n",
       "1293      2155      1\n",
       "1294      2156      2\n",
       "1295      2160      2\n",
       "1296      2162      2\n",
       "\n",
       "[1297 rows x 2 columns]"
      ]
     },
     "execution_count": 42,
     "metadata": {},
     "output_type": "execute_result"
    }
   ],
   "source": [
    "cleaned_df = pd.DataFrame({\"album_id\": pd.Series(dtype=\"int\"), \"genre\": pd.Series(dtype=\"int\")})\n",
    "for row in df.itertuples(index=True, name=\"Row\"):\n",
    "    genre = assign_genre(extract_genres(row.genres))\n",
    "    if genre == \"unknown\":\n",
    "        continue\n",
    "    new_row = pd.DataFrame([{\"album_id\": int(row.album_index), \"genre\": indexed_categories[genre]}])\n",
    "    cleaned_df = pd.concat([cleaned_df, new_row], ignore_index=True)\n",
    "\n",
    "cleaned_df"
   ]
  },
  {
   "cell_type": "code",
   "execution_count": 43,
   "id": "b3a4dc01",
   "metadata": {},
   "outputs": [],
   "source": [
    "cleaned_df.to_csv(config[\"organized_dataset_name\"], index=False)"
   ]
  }
 ],
 "metadata": {
  "kernelspec": {
   "display_name": "Python (venv)",
   "language": "python",
   "name": "venv"
  },
  "language_info": {
   "codemirror_mode": {
    "name": "ipython",
    "version": 3
   },
   "file_extension": ".py",
   "mimetype": "text/x-python",
   "name": "python",
   "nbconvert_exporter": "python",
   "pygments_lexer": "ipython3",
   "version": "3.10.15"
  }
 },
 "nbformat": 4,
 "nbformat_minor": 5
}
