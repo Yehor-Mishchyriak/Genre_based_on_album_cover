{
 "cells": [
  {
   "cell_type": "code",
   "execution_count": null,
   "metadata": {
    "colab": {
     "base_uri": "https://localhost:8080/"
    },
    "id": "98eoVARXI15x",
    "outputId": "6dcf5a4b-59fc-4c49-d183-9c11d22c23fb"
   },
   "outputs": [],
   "source": [
    "\"\"\"\n",
    "Note: Gemini was used as autocomplete for this notebook\n",
    "\"\"\"\n",
    "\n",
    "\"\"\"\n",
    "This notebook will help you download the album cover images, and assign genre labels to them\n",
    "\"\"\"\n",
    "\n",
    "# Download datasets\n",
    "# !gdown https://drive.google.com/uc?id=1myz_mN01Uv8WGUk_Wtag5fiZw8v-WVos\n",
    "# !gdown https://drive.google.com/uc?id=1qsStd4onpGFLLMPEdjB4DDb8negqNLdz"
   ]
  },
  {
   "cell_type": "code",
   "execution_count": null,
   "metadata": {
    "colab": {
     "base_uri": "https://localhost:8080/",
     "height": 383
    },
    "id": "TZuvptY_KbPO",
    "outputId": "9c617d06-1628-4de1-c830-c474e9381f18"
   },
   "outputs": [],
   "source": [
    "import numpy as np\n",
    "import pandas as pd\n",
    "from time import sleep\n",
    "# from google.colab import drive\n",
    "# drive.mount('/content/drive')\n",
    "\n",
    "albums = pd.read_csv('albums.csv', sep=\"\\t\")\n",
    "albums.head()"
   ]
  },
  {
   "cell_type": "code",
   "execution_count": null,
   "metadata": {
    "colab": {
     "base_uri": "https://localhost:8080/",
     "height": 400
    },
    "id": "zwx_MlqkKh4Q",
    "outputId": "ef0cb70f-b7e7-4dfa-fb47-ade7d83ffb22"
   },
   "outputs": [],
   "source": [
    "artists = pd.read_csv('artists.csv', sep=\"\\t\")\n",
    "artists.head()"
   ]
  },
  {
   "cell_type": "code",
   "execution_count": null,
   "metadata": {
    "id": "qP4uXWakK0aF"
   },
   "outputs": [],
   "source": [
    "# For each album, do a few things:\n",
    "# 1. Download the associated image from the albums.csv file\n",
    "# 2. For each artist associated with the album, match their ID with the\n",
    "# appropriate ID in artists.csv, and label them as such"
   ]
  },
  {
   "cell_type": "code",
   "execution_count": null,
   "metadata": {
    "id": "_DNtCM0YLBfu"
   },
   "outputs": [],
   "source": [
    "import requests\n",
    "from io import BytesIO\n",
    "from PIL import Image\n",
    "\n",
    "def save_image_from_url(image_url, file_path):\n",
    "  \"\"\"\n",
    "  Saves an image from a URL to a local file.\n",
    "\n",
    "  Args:\n",
    "    image_url: The URL of the image to save.\n",
    "    file_path: The local file path to save the image to.\n",
    "  \"\"\"\n",
    "  response = requests.get(image_url, stream=True)\n",
    "  response.raise_for_status()  # Raise an exception for bad responses (4xx or 5xx)\n",
    "  image = Image.open(BytesIO(response.content))\n",
    "  image.save(file_path)"
   ]
  },
  {
   "cell_type": "code",
   "execution_count": null,
   "metadata": {
    "id": "sZyEx60-Ox7A"
   },
   "outputs": [],
   "source": [
    "!mkdir album_covers"
   ]
  },
  {
   "cell_type": "code",
   "execution_count": null,
   "metadata": {
    "id": "VHjuq69RQuGU"
   },
   "outputs": [],
   "source": []
  },
  {
   "cell_type": "code",
   "execution_count": null,
   "metadata": {
    "colab": {
     "background_save": true,
     "base_uri": "https://localhost:8080/"
    },
    "id": "30PdD_31LU_F",
    "outputId": "3250af0d-9cd4-41b1-86e8-3d287135120d"
   },
   "outputs": [],
   "source": [
    "import time\n",
    "import ast\n",
    "import shutil\n",
    "import os\n",
    "import traceback  # Import for traceback information\n",
    "\n",
    "output_df = pd.DataFrame(columns=['album_index', 'album_id', 'genres'])\n",
    "for index, row in albums.iterrows():\n",
    "    try:\n",
    "        artist = ast.literal_eval(row.artists)\n",
    "        genres = []\n",
    "        for id in artist:\n",
    "            matching_row = artists[artists['artist_id'] == id]\n",
    "            print(matching_row)\n",
    "            genres.append(ast.literal_eval(matching_row['genres'].tolist()[0]))\n",
    "        if len(genres) == 0:\n",
    "            continue\n",
    "        # Download the image of the album associated with these genres\n",
    "        save_image_from_url(row.image_url, \"album_covers/\" + str(index) + \".jpg\")\n",
    "\n",
    "        new_row = {'album_index': len(output_df), 'album_id': row.album_id, 'genres': genres}\n",
    "        output_df.loc[len(output_df)] = new_row\n",
    "        time.sleep(0.25)  # Optional: Add a delay to avoid overwhelming the server\n",
    "        # if index > 10:\n",
    "        #     break\n",
    "    except Exception as e:\n",
    "        print(f\"Error processing album at index {index}: {e}\")\n",
    "        traceback.print_exc()  # Print traceback for debugging\n",
    "        # You can choose to continue or break based on the specific error\n",
    "\n",
    "# Save results regardless of errors\n",
    "output_df.to_csv('album_genres.csv', index=True)\n",
    "shutil.copy('album_genres.csv', '/content/drive/MyDrive/Colab Notebooks/qac239/album_genres.csv')\n",
    "\n",
    "# # Check if the destination directory exists before attempting to copy\n",
    "# if not os.path.exists('/content/drive/MyDrive/Colab Notebooks/qac239/album_covers'):\n",
    "#     shutil.copytree('album_covers', '/content/drive/MyDrive/Colab Notebooks/qac239/album_covers')\n",
    "# else:\n",
    "#     print(\"Destination directory already exists. Overwriting...\")\n",
    "#     shutil.rmtree('/content/drive/MyDrive/Colab Notebooks/qac239/album_covers')  # Remove existing directory\n",
    "#     shutil.copytree('album_covers', '/content/drive/MyDrive/Colab Notebooks/qac239/album_covers')  # Copy new directory"
   ]
  }
 ],
 "metadata": {
  "colab": {
   "provenance": []
  },
  "kernelspec": {
   "display_name": ".venv",
   "language": "python",
   "name": "python3"
  },
  "language_info": {
   "codemirror_mode": {
    "name": "ipython",
    "version": 3
   },
   "file_extension": ".py",
   "mimetype": "text/x-python",
   "name": "python",
   "nbconvert_exporter": "python",
   "pygments_lexer": "ipython3",
   "version": "3.12.6"
  }
 },
 "nbformat": 4,
 "nbformat_minor": 0
}
